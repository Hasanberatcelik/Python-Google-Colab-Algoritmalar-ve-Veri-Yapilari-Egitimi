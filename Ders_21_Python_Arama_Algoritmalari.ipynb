{
  "nbformat": 4,
  "nbformat_minor": 0,
  "metadata": {
    "colab": {
      "provenance": []
    },
    "kernelspec": {
      "name": "python3",
      "display_name": "Python 3"
    },
    "language_info": {
      "name": "python"
    }
  },
  "cells": [
    {
      "cell_type": "markdown",
      "source": [
        "# Python + Google Colab: Algoritmalar ve Veri Yapıları Eğitimi (Sıfırdan İleriye)\n",
        "\n",
        "# Bölüm 21: Python Programlama Dili Üzerinde Arama Algoritmaları\n",
        "\n",
        "Github Kaynagı:       \n",
        "https://github.com/acetinkaya/Python-Google-Colab-Algoritmalar-ve-Veri-Yapilari-Egitimi --> D21\n",
        "\n",
        "Öğr. Gör. Ali ÇETİNKAYA - 2025"
      ],
      "metadata": {
        "id": "0ay-Cjl8h8zX"
      }
    },
    {
      "cell_type": "code",
      "execution_count": 1,
      "metadata": {
        "colab": {
          "base_uri": "https://localhost:8080/"
        },
        "id": "ysRIoo1kh3te",
        "outputId": "b7a0136f-e9d5-4410-a33b-f54b0a21fc94"
      },
      "outputs": [
        {
          "output_type": "stream",
          "name": "stdout",
          "text": [
            "Merhaba, Python Veri Yapıları ve Algoritmalar / Bölüm 21\n"
          ]
        }
      ],
      "source": [
        "print(\"Merhaba, Python Veri Yapıları ve Algoritmalar / Bölüm 21\")"
      ]
    },
    {
      "cell_type": "code",
      "source": [
        "import sys  # import python programlama dilinde yazılıma kütüphane eklemeye yarayan bir kod blogudur.\n",
        "print(sys.version)"
      ],
      "metadata": {
        "colab": {
          "base_uri": "https://localhost:8080/"
        },
        "id": "XosNEqDi67Uz",
        "outputId": "4eb36518-a1e4-4fe4-c71f-e1ed57a0981e"
      },
      "execution_count": 2,
      "outputs": [
        {
          "output_type": "stream",
          "name": "stdout",
          "text": [
            "3.11.12 (main, Apr  9 2025, 08:55:54) [GCC 11.4.0]\n"
          ]
        }
      ]
    },
    {
      "cell_type": "code",
      "source": [
        "from google.colab import drive # google colab - drive bağlantısı\n",
        "\n",
        "drive.mount('/content/drive')"
      ],
      "metadata": {
        "colab": {
          "base_uri": "https://localhost:8080/"
        },
        "id": "3RK_pb147Ahg",
        "outputId": "84ed80c1-adc2-48b4-8887-a7345b82e0f9"
      },
      "execution_count": 3,
      "outputs": [
        {
          "output_type": "stream",
          "name": "stdout",
          "text": [
            "Mounted at /content/drive\n"
          ]
        }
      ]
    },
    {
      "cell_type": "code",
      "source": [
        "import os\n",
        "\n",
        "os.chdir('/content/drive/My Drive/VERIYAPILARI_PYTHON')\n",
        "\n",
        "!pwd # bize kodun çıktısını dosya yolu olarak veren kod blogudur."
      ],
      "metadata": {
        "colab": {
          "base_uri": "https://localhost:8080/"
        },
        "id": "PVUKOmiV7SNV",
        "outputId": "8b2ce1e5-da09-4b65-fdc3-2de325e5ec00"
      },
      "execution_count": 4,
      "outputs": [
        {
          "output_type": "stream",
          "name": "stdout",
          "text": [
            "/content/drive/My Drive/VERIYAPILARI_PYTHON\n"
          ]
        }
      ]
    },
    {
      "cell_type": "markdown",
      "source": [
        "# Bölüm 21: Python Programlama Dili Üzerinde Arama Algoritmaları\n",
        "\n",
        "# 21.1 Arama Algoritmalarının Önemi ve Kullanım Alanları ->\n",
        "\n",
        "Arama algoritmaları, bir veri kümesi içinde belirli bir değerin bulunmasını sağlayan yöntemlerdir. Bilgisayar bilimlerinde çok temel ve kritik öneme sahiptir çünkü:\n",
        "\n",
        "* Kullanıcı sorgularına hızlı cevap vermeyi sağlar.\n",
        "\n",
        "* Veritabanı işlemleri, arama motorları ve yapay zeka sistemlerinde temel yapı taşlarıdır.\n",
        "\n",
        "* Sıralı/sırasız verilere göre farklı algoritmalar kullanılır.\n",
        "\n",
        "---\n",
        "\n",
        "# 21.2 Gerçek Hayattaki Kullanım Alanları\n",
        "\n",
        "| Alan                         | Açıklama / Uygulama Örneği                                                                 |\n",
        "|------------------------------|---------------------------------------------------------------------------------------------|\n",
        "| Mobil Uygulamalar         | Kişi rehberinde arama, mesajlarda kelime bulma işlemleri genellikle **linear search** ile başlar. |\n",
        "| Yapay Zeka / Veri Bilimi  | Büyük veri kümelerinde ön işlem ve veri bulma işlemleri (örneğin özellik secimi (feature selection) sırasında binary search). |\n",
        "| E-ticaret Platformları     | Ürünleri hızlıca bulmak için arama kutusu algoritmaları. (Sıralıysa binary search tercih edilir.) |\n",
        "| Bankacılık ve Finans      | Müşteri, işlem ya da ödeme sorgulamalarında optimize edilmiş arama algoritmaları kullanılır. |\n",
        "| Biyoinformatik            | Genetik dizilerde motif aramak ya da eşleşme yapmak için özel türevleri kullanılır. |\n",
        "| Dosya Sistemleri          | Dosya isimlerini veya içerikleri aramak için çeşitli arama algoritmaları kullanılır. |\n",
        "| Oyun Programlama          | Oyuncuların envanterinde eşya arama, düşman tespiti gibi işlemlerde sıklıkla arama yapılır. |\n",
        "\n",
        "---\n",
        "\n",
        "# 21.3 Hangi Arama Algoritması Nerede Tercih Edilir?\n",
        "\n",
        "| Algoritma        | Ne Zaman Kullanılır?                                                                 |\n",
        "|------------------|----------------------------------------------------------------------------------------|\n",
        "| **Linear Search** | - Liste sıralı değilse<br>- Veri sayısı azsa<br>- Basit ve tek seferlik aramalarda     |\n",
        "| **Binary Search** | - Liste **önceden sıralanmışsa**<br>- Arama işlemi çok sık yapılıyorsa<br>- Hız önemliyse |\n",
        "| **Hash Tabanlı Arama** | - Sabit zamanda O(1) arama isteniyorsa<br>- Veriler hash yapısında tutuluyorsa |\n",
        "| **Interpolasyon Arama** | - Sayısal veriler **düzenli dağılmışsa**<br>- Tahmine dayalı indeksleme gerekiyorsa |\n",
        "| **Trie Tabanlı Arama** | - Otomatik tamamlama, sözlük araması<br>- Karakter dizileri üzerinde optimize arama |"
      ],
      "metadata": {
        "id": "LSE34Fd_8vds"
      }
    },
    {
      "cell_type": "code",
      "source": [
        "# Linear Search (Doğrusal Arama)\n",
        "\n",
        "def linear_search(liste, hedef):\n",
        "    for i in range(len(liste)):\n",
        "        if liste[i] == hedef:\n",
        "            return i  # Bulunduğunda indeks döndürülür\n",
        "    return -1  # Bulunamazsa -1 döner\n",
        "\n",
        "# Örnek kullanım\n",
        "veri = [10, 23, 45, 70, 11, 15]\n",
        "print(linear_search(veri, 70))  # Çıktı: 3"
      ],
      "metadata": {
        "colab": {
          "base_uri": "https://localhost:8080/"
        },
        "id": "OCZvkm_NxAza",
        "outputId": "eab0613c-05ea-43db-f157-a1cd296f2979"
      },
      "execution_count": 5,
      "outputs": [
        {
          "output_type": "stream",
          "name": "stdout",
          "text": [
            "3\n"
          ]
        }
      ]
    },
    {
      "cell_type": "code",
      "source": [
        "import time  # Zaman ölçümü için gerekli kütüphane\n",
        "\n",
        "# Binary Search (İkili Arama) algoritması\n",
        "def ikili_arama(liste, hedef):\n",
        "    alt_sinir = 0                             # Aramanın başlayacağı alt sınır\n",
        "    ust_sinir = len(liste) - 1                # Aramanın biteceği üst sınır\n",
        "\n",
        "    while alt_sinir <= ust_sinir:             # Alt sınır üst sınırı geçmediği sürece döngü devam eder\n",
        "        orta = (alt_sinir + ust_sinir) // 2   # Ortadaki eleman hesaplanır\n",
        "\n",
        "        if liste[orta] == hedef:              # Aranan eleman bulunduysa indeks döndürülür\n",
        "            return orta\n",
        "        elif liste[orta] < hedef:             # Aranan eleman ortadakinden büyükse sağa kay\n",
        "            alt_sinir = orta + 1\n",
        "        else:                                 # Aranan eleman ortadakinden küçükse sola kay\n",
        "            ust_sinir = orta - 1\n",
        "\n",
        "    return -1                                 # Eleman bulunamadıysa -1 döndürülür\n",
        "\n",
        "# Örnek sıralı sayı listesi\n",
        "sayilar = [1, 3, 5, 7, 9, 11, 13]\n",
        "hedef_sayi = int(input(\"Listeden aranacak eleman bilgisini giriniz!!\"))\n",
        "\n",
        "# Zaman ölçümünün başlangıcı\n",
        "baslangic = time.time()\n",
        "\n",
        "# Arama işlemi yapılır\n",
        "sonuc = ikili_arama(sayilar, hedef_sayi)\n",
        "\n",
        "# Arama sonucu yazdırılır\n",
        "if sonuc != -1:\n",
        "    print(hedef_sayi, \"sayısı listenin\", sonuc , \". indeksinde bulundu.\")\n",
        "else:\n",
        "    print(hedef_sayi, \" sayı listesinde bulunamadı.\")\n",
        "\n",
        "# Zaman ölçümünün bitişi\n",
        "bitis = time.time()\n",
        "sure = bitis - baslangic\n",
        "\n",
        "# Toplam işlem süresi yazdırılır\n",
        "print(\"Toplam işlem süresi:\", round(sure, 6), \"saniye\")"
      ],
      "metadata": {
        "colab": {
          "base_uri": "https://localhost:8080/"
        },
        "id": "EzQ8qvvGzAqR",
        "outputId": "f7787c27-8794-483c-92ba-edb100671f74"
      },
      "execution_count": 8,
      "outputs": [
        {
          "output_type": "stream",
          "name": "stdout",
          "text": [
            "Listeden aranacak eleman bilgisini giriniz!!9\n",
            "9 sayısı listenin 4  . indeksinde bulundu.\n",
            "Toplam işlem süresi: 0.000249 saniye\n"
          ]
        }
      ]
    }
  ]
}