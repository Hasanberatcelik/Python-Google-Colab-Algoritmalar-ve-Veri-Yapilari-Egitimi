{
  "nbformat": 4,
  "nbformat_minor": 0,
  "metadata": {
    "colab": {
      "provenance": []
    },
    "kernelspec": {
      "name": "python3",
      "display_name": "Python 3"
    },
    "language_info": {
      "name": "python"
    }
  },
  "cells": [
    {
      "cell_type": "markdown",
      "source": [
        "Python + Google Colab: Algoritmalar ve Veri Yapıları Eğitimi (Sıfırdan İleriye)    \n",
        "Ders 13. Python Programlama Dili üzerinde Dosya İşlemleri (CSV ve EXCEL)\n",
        "\n",
        "Github Kaynagı:       \n",
        "https://github.com/acetinkaya/Python-Google-Colab-Algoritmalar-ve-Veri-Yapilari-Egitimi --> D13\n",
        "\n",
        "Öğr. Gör. Ali ÇETİNKAYA - 2025\n"
      ],
      "metadata": {
        "id": "0ay-Cjl8h8zX"
      }
    },
    {
      "cell_type": "code",
      "execution_count": null,
      "metadata": {
        "colab": {
          "base_uri": "https://localhost:8080/"
        },
        "id": "ysRIoo1kh3te",
        "outputId": "99b212ae-64b8-435a-9dd3-3364a81add64"
      },
      "outputs": [
        {
          "output_type": "stream",
          "name": "stdout",
          "text": [
            "Merhaba, Python Veri Yapıları ve Algoritmalar / Ders 13\n"
          ]
        }
      ],
      "source": [
        "print(\"Merhaba, Python Veri Yapıları ve Algoritmalar / Ders 13\")"
      ]
    },
    {
      "cell_type": "code",
      "source": [
        "import sys  # import python programlama dilinde yazılıma kütüphane eklemeye yarayan bir kod blogudur.\n",
        "print(sys.version)"
      ],
      "metadata": {
        "colab": {
          "base_uri": "https://localhost:8080/"
        },
        "id": "XosNEqDi67Uz",
        "outputId": "610f311d-d55c-46cf-82a8-5d2d17cef56e"
      },
      "execution_count": null,
      "outputs": [
        {
          "output_type": "stream",
          "name": "stdout",
          "text": [
            "3.11.11 (main, Dec  4 2024, 08:55:07) [GCC 11.4.0]\n"
          ]
        }
      ]
    },
    {
      "cell_type": "code",
      "source": [
        "from google.colab import drive # google colab - drive bağlantısı\n",
        "\n",
        "drive.mount('/content/drive')"
      ],
      "metadata": {
        "colab": {
          "base_uri": "https://localhost:8080/"
        },
        "id": "3RK_pb147Ahg",
        "outputId": "eb16b297-f3a0-4513-ff18-449b7ce2450c"
      },
      "execution_count": null,
      "outputs": [
        {
          "output_type": "stream",
          "name": "stdout",
          "text": [
            "Mounted at /content/drive\n"
          ]
        }
      ]
    },
    {
      "cell_type": "code",
      "source": [
        "import os\n",
        "\n",
        "os.chdir('/content/drive/My Drive/VERIYAPILARI_PYTHON')\n",
        "\n",
        "!pwd # bize kodun çıktısını dosya yolu olarak veren kod blogudur."
      ],
      "metadata": {
        "colab": {
          "base_uri": "https://localhost:8080/"
        },
        "id": "PVUKOmiV7SNV",
        "outputId": "4ed13295-29e7-4358-b05d-8da8bd38ecaf"
      },
      "execution_count": null,
      "outputs": [
        {
          "output_type": "stream",
          "name": "stdout",
          "text": [
            "/content/drive/My Drive/VERIYAPILARI_PYTHON\n"
          ]
        }
      ]
    },
    {
      "cell_type": "markdown",
      "source": [
        "# Ders 13. Python Programlama Dili üzerinde Dosya İşlemleri\n",
        "\n",
        "Dosya işlemleri, bir programın dış dünyayla veri alışverişi yapmasını sağlayan temel bir fonksiyondur. Python, dosya işlemleri için güçlü ve esnek araçlar sunar. Bu ders boyunca, metin dosyalarını, CSV dosyalarını ve Excel belgelerini okuyup yazmayı, dönüştürmeyi öğreneceğiz.\n",
        "\n",
        "Neden Önemlidir? -> Veri analizi, veri işleme, veri görselleştirme ve Raporlama sistemleri\n",
        "\n",
        "## 13.1 Python Programlama Dilinde Dosya işlemleri\n",
        "\n",
        "Python programlama dilinde dosya işlemleri; dosyaların okunması, yazılması, güncellenmesi ve kapatılması gibi işlemleri kapsamaktadır. Dosya işlemleri, genellikle dosyaların içeriğini almak, bilgi üzerinde işlem yapabilmek veya yeni dosyalar oluşturmak için kullanılır.\n",
        "\n",
        "PYTHON programlama dili üzerindeki dosya işlemleri bağlamında Yapay Zeka (YZ) çalışmaları noktasında veri setlerini ele aldık. Veri yapıları ve Algoritmalar'ın sonucu olarak yapay zeka çalışmaları ele alacağız. Doğru veri yapısı için bu bağlamda yapay zeka uygulamaları için veri setlerinin önemi:\n",
        "\n",
        "1. Modelin Doğruluğu\n",
        "2. Geniş Kapsamlı bir genelleme\n",
        "3. Performans\n",
        "4. Modelin başarısı için verilerin doğruluğu çok önemlidir.\n",
        "\n",
        "## 13.2 Python ile *.csv dosya işlemleri\n",
        "\n",
        "* Veri Depolama ve Aktarımı: Veri tabanlarından çekilen verileri düz bir formatta saklamak. API veya web servislerinden alınan verilerin hızlıca kaydedilmesi.\n",
        "\n",
        "* Hızlı Veri İşleme: Büyük veri kümelerinin hızlı bir şekilde işlenmesi ve analiz edilmesi.\n",
        "\n",
        "* Makine Öğrenmesi: Eğitim ve test verilerinin saklanması.\n",
        "\n",
        "## 13.3 Python ile *.excel dosya işlemleri\n",
        "\n",
        "* Raporlama ve Analiz: Mali tablolar, performans raporları ve detaylı veri analizleri.\n",
        "\n",
        "* Zengin İçerik Hazırlama: Grafikler, formüller ve formatlı belgelerle profesyonel raporlar.\n",
        "\n",
        "* Çoklu Sayfa Veri Yönetimi: Farklı veri kümelerinin ayrı sayfalarda düzenlenmesi.\n",
        "\n",
        "## 13.4 Python'da CSV ve Excel Dosyalarının Farkları ve Kullanım Alanları Tablosu\n",
        "\n",
        "CSV: Hız ve sadelik ön planda olduğunda, büyük veri setlerinde.\n",
        "\n",
        "Excel: Görsellik, formatlama ve daha karmaşık veri yapılarına ihtiyaç duyulduğunda.\n",
        "\n",
        "\n",
        "## 13.5 Python'da CSV ve Excel Dosyalarının Farkları ve Kullanım Tablosu\n",
        "\n",
        "| **Özellik**                    | **CSV Dosyaları**                                                                                          | **Excel Dosyaları**                                                                                             |\n",
        "|--------------------------------|-----------------------------------------------------------------------------------------------------------|---------------------------------------------------------------------------------------------------------------|\n",
        "| **Dosya Formatı**              | Metin tabanlı (düz metin, virgülle ayrılmış değerler).                                                     | Yapısal, birden fazla sayfa (sheet) içeren tablo tabanlı.                                                     |\n",
        "| **Boyut ve Performans**        | Daha küçük dosya boyutu, hızlı okuma/yazma.                                                                | Daha büyük dosya boyutu, daha yavaş performans.                                                               |\n",
        "| **Veri Türü Desteği**          | Sadece düz metin ve sayısal değerler içerir.                                                               | Zengin veri türlerini destekler (metin, sayı, tarih, formüller vb.).                                          |\n",
        "| **Kullanım Kolaylığı**         | Basit ve hafif, herhangi bir yazılım gerektirmez.                                                          | Daha karmaşık, genellikle Microsoft Excel veya benzeri yazılımlar gerektirir.                                 |\n",
        "| **Kullanım Alanları**          | - Veri aktarımı ve yedekleme.                                                                             | - Raporlama ve analiz.                                                                                        |\n",
        "|                                | - API'den alınan verilerin kaydedilmesi.                                                                   | - Grafik, formül ve makrolar içeren detaylı belgeler.                                                         |\n",
        "| **Python Kütüphaneleri**       | - `csv`, `pandas`.                                                                                        | - `pandas`, `openpyxl`, `xlrd`.                                                                              |\n",
        "| **Düzenleme İmkanları**        | Sadece satır ve sütun düzenlemesi yapılabilir.                                                             | Formül, hücre biçimlendirme ve çoklu sayfa düzenlemeleri yapılabilir.                                         |\n",
        "| **Tipik Kullanım Örnekleri**   | - Büyük verilerin hızlı şekilde işlenmesi ve taşınması.                                                    | - Mali tablolar, raporlar ve zengin içeriğe sahip belgelerin hazırlanması.                                    |\n",
        "\n",
        "\n"
      ],
      "metadata": {
        "id": "N8O0VC5oQ898"
      }
    },
    {
      "cell_type": "code",
      "source": [
        "# https://data.ibb.gov.tr/dataset/atiktan-geri-kazanim-miktarlari\n",
        "\n",
        "#sayfasından veri seti dosyasını öncelikle indirelim.\n",
        "\n",
        "# drive alanınızda çalışma alanınızda \"veriseti\" alt klasör oluşturalım.\n",
        "\n",
        "# ben drive alanında \"VERIYAPILARI_PYTHON\" olarak ayarladığım klasörün içerisinde \"veriseti\" oluşturuyorum. bu dosya yolu aşağıda işimize yarayacaktır."
      ],
      "metadata": {
        "id": "qJ4_aiL-Xfzd"
      },
      "execution_count": null,
      "outputs": []
    },
    {
      "cell_type": "code",
      "source": [
        "import os\n",
        "import pandas as pd\n",
        "\n",
        "VeriSetiYolu = '/content/drive/My Drive/VERIYAPILARI_PYTHON/veriseti'\n",
        "\n",
        "# VeriSetiYolu içindeki bulmak istedğimiz dosyaların türlerine göre değişkenler oluşturuyoruz.\n",
        "csv_dosyalari = [] # .csv dosyalarını bul ve say\n",
        "xlsx_dosyalari = [] # .xlsx dosyalarını bul ve say\n",
        "\n",
        "ogeler = os.listdir(VeriSetiYolu)\n",
        "\n",
        "for oge in ogeler:\n",
        "  oge_yolu = os.path.join(VeriSetiYolu, oge)\n",
        "  if os.path.isfile(oge_yolu):\n",
        "    if oge.endswith('.csv'):\n",
        "      csv_dosyalari.append(oge)\n",
        "    elif oge.endswith('.xlsx'):\n",
        "      xlsx_dosyalari.append(oge)\n",
        "\n",
        "# .csv dosya isimleri ve dosya sayısını ekrana yazdırma işlemi - örnek 1\n",
        "csv_dosya_sayisi = len(csv_dosyalari)\n",
        "print(\"VeriSetiYolu içerisinde\", csv_dosyalari, \" isimli \", csv_dosya_sayisi , \" adet *.csv dosyası bulunuyor.\")\n",
        "\n",
        "# .xlsx dosya isimleri ve dosya sayısını ekrana yazdırma işlemi - örnek 2\n",
        "xlsx_dosya_sayisi = len(xlsx_dosyalari)\n",
        "print(\"VeriSetiYolu içerisinde\", xlsx_dosyalari, \" isimli \", xlsx_dosya_sayisi , \" adet *.xlsx dosyası bulunuyor.\")\n",
        "\n",
        "# Mevcut *.csv uzantılı dosyaların isimlerini for döngüsü ile alıyoruz. - örnek 3\n",
        "print(\"Bulunan CSV Dosyalarının İsimleri:\")\n",
        "for dosya in csv_dosyalari:\n",
        "    print(dosya)"
      ],
      "metadata": {
        "id": "-X3wFTPjvw4u",
        "colab": {
          "base_uri": "https://localhost:8080/"
        },
        "outputId": "79d585d0-cebf-4867-cfe9-b690fe2ef1f7"
      },
      "execution_count": null,
      "outputs": [
        {
          "output_type": "stream",
          "name": "stdout",
          "text": [
            "VeriSetiYolu içerisinde []  isimli  0  adet *.csv dosyası bulunuyor.\n",
            "VeriSetiYolu içerisinde ['atktan-geri-kazanm-miktarlar.xlsx']  isimli  1  adet *.xlsx dosyası bulunuyor.\n",
            "Bulunan CSV Dosyalarının İsimleri:\n"
          ]
        }
      ]
    },
    {
      "cell_type": "code",
      "source": [
        "import pandas as pd\n",
        "\n",
        "VeriSetiYolu = '/content/drive/My Drive/VERIYAPILARI_PYTHON/veriseti'\n",
        "\n",
        "for file in os.listdir(VeriSetiYolu):                         # Klasördeki tüm dosyaları listele\n",
        "\n",
        "    if file.endswith(('.xlsx', '.xls')):                      # Sadece Excel dosyalarını seç\n",
        "\n",
        "        df = pd.read_excel(os.path.join(VeriSetiYolu, file))  # Excel dosyasını pandas ile oku\n",
        "\n",
        "        df.to_csv(os.path.join(VeriSetiYolu, file.rsplit('.', 1)[0] + '.csv'), index=False)\n",
        "                                                              # DataFrame'i CSV formatında kaydet\n",
        "        print(file, \" dosyası CSV formatına çevrildi.\")      # Çevrim İşlemi Çıktısı\n",
        "\n",
        "# İşlem tamamlandığında kaç tane excel dosyası var ise o kadar *.csv formatına çevildiğinin\n",
        "# bilgisini almaktayız"
      ],
      "metadata": {
        "id": "9SLCAkevvm3a",
        "colab": {
          "base_uri": "https://localhost:8080/"
        },
        "outputId": "d44fc4d3-f4c8-4296-a066-8e0b3f232457"
      },
      "execution_count": null,
      "outputs": [
        {
          "output_type": "stream",
          "name": "stdout",
          "text": [
            "atktan-geri-kazanm-miktarlar.xlsx  dosyası CSV formatına çevrildi.\n"
          ]
        }
      ]
    }
  ]
}