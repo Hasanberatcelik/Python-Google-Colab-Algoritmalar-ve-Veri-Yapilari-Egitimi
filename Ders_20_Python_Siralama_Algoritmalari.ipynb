{
  "nbformat": 4,
  "nbformat_minor": 0,
  "metadata": {
    "colab": {
      "provenance": []
    },
    "kernelspec": {
      "name": "python3",
      "display_name": "Python 3"
    },
    "language_info": {
      "name": "python"
    }
  },
  "cells": [
    {
      "cell_type": "markdown",
      "source": [
        "# Python + Google Colab: Algoritmalar ve Veri Yapıları Eğitimi (Sıfırdan İleriye)\n",
        "\n",
        "# Bölüm 20: Python Programlama Dili Üzerinde Sıralama Algoritmaları\n",
        "\n",
        "Github Kaynagı:       \n",
        "https://github.com/acetinkaya/Python-Google-Colab-Algoritmalar-ve-Veri-Yapilari-Egitimi --> D20\n",
        "\n",
        "Öğr. Gör. Ali ÇETİNKAYA - 2025"
      ],
      "metadata": {
        "id": "0ay-Cjl8h8zX"
      }
    },
    {
      "cell_type": "code",
      "execution_count": 1,
      "metadata": {
        "colab": {
          "base_uri": "https://localhost:8080/"
        },
        "id": "ysRIoo1kh3te",
        "outputId": "4dce5d7e-ed09-4458-fbfe-c1e6e37322f1"
      },
      "outputs": [
        {
          "output_type": "stream",
          "name": "stdout",
          "text": [
            "Merhaba, Python Veri Yapıları ve Algoritmalar / Bölüm 20\n"
          ]
        }
      ],
      "source": [
        "print(\"Merhaba, Python Veri Yapıları ve Algoritmalar / Bölüm 20\")"
      ]
    },
    {
      "cell_type": "code",
      "source": [
        "import sys  # import python programlama dilinde yazılıma kütüphane eklemeye yarayan bir kod blogudur.\n",
        "print(sys.version)"
      ],
      "metadata": {
        "colab": {
          "base_uri": "https://localhost:8080/"
        },
        "id": "XosNEqDi67Uz",
        "outputId": "6acc758e-4e6d-4843-d01b-b0debd66de69"
      },
      "execution_count": 2,
      "outputs": [
        {
          "output_type": "stream",
          "name": "stdout",
          "text": [
            "3.11.12 (main, Apr  9 2025, 08:55:54) [GCC 11.4.0]\n"
          ]
        }
      ]
    },
    {
      "cell_type": "code",
      "source": [
        "from google.colab import drive # google colab - drive bağlantısı\n",
        "\n",
        "drive.mount('/content/drive')"
      ],
      "metadata": {
        "colab": {
          "base_uri": "https://localhost:8080/"
        },
        "id": "3RK_pb147Ahg",
        "outputId": "ac66bebd-d51f-4743-936f-97703036de60"
      },
      "execution_count": 3,
      "outputs": [
        {
          "output_type": "stream",
          "name": "stdout",
          "text": [
            "Mounted at /content/drive\n"
          ]
        }
      ]
    },
    {
      "cell_type": "code",
      "source": [
        "import os\n",
        "\n",
        "os.chdir('/content/drive/My Drive/VERIYAPILARI_PYTHON')\n",
        "\n",
        "!pwd # bize kodun çıktısını dosya yolu olarak veren kod blogudur."
      ],
      "metadata": {
        "colab": {
          "base_uri": "https://localhost:8080/"
        },
        "id": "PVUKOmiV7SNV",
        "outputId": "87bf8a6b-8907-4931-f891-9d6caeb22996"
      },
      "execution_count": 4,
      "outputs": [
        {
          "output_type": "stream",
          "name": "stdout",
          "text": [
            "/content/drive/My Drive/VERIYAPILARI_PYTHON\n"
          ]
        }
      ]
    },
    {
      "cell_type": "markdown",
      "source": [
        "# Bölüm 20: Python Programlama Dili Üzerinde Sıralama Algoritmaları\n",
        "\n",
        "# 20.1 Sıralama Algoritmalarının Önemi ve Kullanım Alanları ->\n",
        "\n",
        "Sıralama algoritmaları, verilerin belirli bir düzene göre dizilmesini sağlar. Bu işlem, özellikle büyük veri kümelerinde;\n",
        "\n",
        "* Arama işlemlerini hızlandırmak\n",
        "\n",
        "* Veri analizini kolaylaştırmak\n",
        "\n",
        "* Veri temizliği ve bütünlüğü sağlamak\n",
        "\n",
        "---\n",
        "\n",
        "# 20.2 Gerçek Hayattaki Kullanım Alanları\n",
        "\n",
        "| Alan | Kullanım Örneği |\n",
        "|------|------------------|\n",
        "| Veri Bilimi ve Analiz | Büyük veri setlerini analiz etmeden önce sıralamak gerekir. Örneğin, zaman serisi verilerinde en güncel veriye ulaşmak. |\n",
        "| Yapay Zeka ve Makine Öğrenmesi | Özellik seçimi ve ön işleme aşamasında verilerin sıralanması gerekebilir. |\n",
        "| Veritabanları | SQL sorgularında \"ORDER BY\" komutu doğrudan sıralama algoritmalarına dayanır. |\n",
        "| Arama Motorları | Sonuçları alakaya ve popülerliğe göre sıralar. |\n",
        "| Finansal Uygulamalar | Hisse senetlerini performansa göre sıralama, portföy analizleri. |\n",
        "| Oyun Geliştirme | Skor tabloları veya kullanıcı listeleri sıralanarak gösterilir. |\n",
        "| Dosya Sistemleri | Dosyaların isim veya tarihe göre sıralanması. |\n",
        "\n",
        "\n",
        "# 20.3 Hangi Sıralama Algoritması Nerede Tercih Edilir?\n",
        "\n",
        "| Algoritma | Avantajı | Kullanım Alanı |\n",
        "|-----------|----------|----------------|\n",
        "| **Bubble/Selection/Insertion** | Basit, eğitim amaçlı | Küçük veri setleri, algoritma öğretimi |\n",
        "| **Merge Sort** | Kararlı, büyük veri setlerine uygun | Dosya birleştirme işlemleri, harici sıralama |\n",
        "| **Quick Sort** | Hızlı, genellikle en iyi performans | Genel amaçlı sıralama işlemleri |\n",
        "| **Heap Sort** | Ekstra belleğe ihtiyaç duymaz | Bellek kısıtlı sistemlerde |\n",
        "| **Counting/Bucket Sort** | Belirli sayı aralığında çok hızlı | Sınırlı tamsayılar, histogramlar, sınav notları gibi sayısal veriler |"
      ],
      "metadata": {
        "id": "LSE34Fd_8vds"
      }
    },
    {
      "cell_type": "code",
      "source": [
        "# Bubble Sort (Kabarcık Sıralama) algoritması\n",
        "def bubble_sort(liste):\n",
        "    n = len(liste)  # Listenin uzunluğu alınır\n",
        "\n",
        "    # Dış döngü: Tüm elemanlar için tekrar yapılır\n",
        "    for i in range(n):\n",
        "\n",
        "        # İç döngü: Her defasında en büyük eleman sona yerleşir\n",
        "        for j in range(0, n - i - 1):\n",
        "\n",
        "            # Eğer soldaki eleman sağdakinden büyükse yer değiştir\n",
        "            if liste[j] > liste[j + 1]:\n",
        "                # Python'da eleman yer değiştirme yöntemi\n",
        "                liste[j], liste[j + 1] = liste[j + 1], liste[j]\n",
        "\n",
        "    return liste  # Sıralı listeyi döndür\n",
        "\n",
        "# Fonksiyonu örnek liste ile çalıştır ve sonucu yazdır\n",
        "print(bubble_sort([64, 34, 25, 12, 22, 11, 90]))"
      ],
      "metadata": {
        "colab": {
          "base_uri": "https://localhost:8080/"
        },
        "id": "P1Czi1bnsOH6",
        "outputId": "edff3fe0-06f1-4921-8bcb-f78da3f0dbf3"
      },
      "execution_count": 5,
      "outputs": [
        {
          "output_type": "stream",
          "name": "stdout",
          "text": [
            "[11, 12, 22, 25, 34, 64, 90]\n"
          ]
        }
      ]
    },
    {
      "cell_type": "code",
      "source": [
        "# Selection Sort (Seçmeli Sıralama) algoritması\n",
        "def selection_sort(liste):\n",
        "    # Dış döngü: Her eleman için işlem yapılır\n",
        "    for i in range(len(liste)):\n",
        "        min_idx = i  # Şu anki turda minimum değerin indeksini saklar\n",
        "\n",
        "        # İç döngü: i'den sonra kalan elemanlar taranır\n",
        "        for j in range(i + 1, len(liste)):\n",
        "            # Daha küçük bir eleman bulunursa, onun indeksini güncelle\n",
        "            if liste[min_idx] > liste[j]:\n",
        "                min_idx = j\n",
        "\n",
        "        # En küçük elemanla i. elemanın yerini değiştir\n",
        "        liste[i], liste[min_idx] = liste[min_idx], liste[i]\n",
        "\n",
        "    return liste  # Sıralanmış listeyi döndür\n",
        "\n",
        "# Fonksiyonu örnek liste ile çalıştır ve sonucu yazdır\n",
        "print(selection_sort([64, 25, 12, 22, 11]))"
      ],
      "metadata": {
        "colab": {
          "base_uri": "https://localhost:8080/"
        },
        "id": "7EUwKEb7sEkP",
        "outputId": "e505dccc-2478-42b8-8749-6fc4c7633bcc"
      },
      "execution_count": 6,
      "outputs": [
        {
          "output_type": "stream",
          "name": "stdout",
          "text": [
            "[11, 12, 22, 25, 64]\n"
          ]
        }
      ]
    },
    {
      "cell_type": "code",
      "source": [
        "# Insertion Sort (Eklemeli Sıralama) algoritması\n",
        "def insertion_sort(liste):\n",
        "    # İlk eleman zaten sıralı kabul edilir, 1. indexten başlıyoruz\n",
        "    for i in range(1, len(liste)):\n",
        "        anahtar = liste[i]      # Sıradaki eleman (yerleştirilecek değer)\n",
        "        j = i - 1               # Anahtarın solundaki elemanların başlangıç indeksi\n",
        "\n",
        "        # Sol taraftaki sıralı elemanları gezeriz ve anahtardan büyük olanları sağa kaydırırız\n",
        "        while j >= 0 and anahtar < liste[j]:\n",
        "            liste[j + 1] = liste[j]  # Büyük elemanı bir sağa kaydır\n",
        "            j -= 1                   # Bir sola geç\n",
        "\n",
        "        # Anahtarı uygun pozisyona yerleştir\n",
        "        liste[j + 1] = anahtar\n",
        "\n",
        "    return liste  # Sıralanmış listeyi döndür\n",
        "\n",
        "# Fonksiyonu örnek listeyle çalıştır ve sonucu yazdır\n",
        "print(insertion_sort([12, 11, 13, 5, 6]))"
      ],
      "metadata": {
        "colab": {
          "base_uri": "https://localhost:8080/"
        },
        "id": "c2_HP3eSsS--",
        "outputId": "661d5594-71a6-47d4-bb01-d449a33ee764"
      },
      "execution_count": 7,
      "outputs": [
        {
          "output_type": "stream",
          "name": "stdout",
          "text": [
            "[5, 6, 11, 12, 13]\n"
          ]
        }
      ]
    },
    {
      "cell_type": "code",
      "source": [
        "# Quick Sort (Hızlı Sıralama) algoritması\n",
        "def quick_sort(liste):\n",
        "    # Eğer listenin uzunluğu 1 veya 0 ise zaten sıralıdır, direkt döndür\n",
        "    if len(liste) <= 1:\n",
        "        return liste\n",
        "    else:\n",
        "        deger = liste[0]  # deger olarak listenin ilk elemanı seçilir\n",
        "\n",
        "        # deger'den küçük veya eşit elemanlar sol tarafa ayrılır\n",
        "        sol = [x for x in liste[1:] if x <= deger]\n",
        "\n",
        "        # deger'den büyük elemanlar sağ tarafa ayrılır\n",
        "        sag = [x for x in liste[1:] if x > deger]\n",
        "\n",
        "        # Sol + deger + Sağ birleşimiyle sıralı liste döndürülür\n",
        "        return quick_sort(sol) + [deger] + quick_sort(sag)\n",
        "\n",
        "# Fonksiyonu örnek bir liste ile çalıştır ve sonucu yazdır\n",
        "print(quick_sort([10, 7, 8, 9, 1, 5]))"
      ],
      "metadata": {
        "colab": {
          "base_uri": "https://localhost:8080/"
        },
        "id": "pkozB3-dsafE",
        "outputId": "a28b2eb2-c621-4ca9-e6e6-e7fa60f5a3ad"
      },
      "execution_count": 9,
      "outputs": [
        {
          "output_type": "stream",
          "name": "stdout",
          "text": [
            "[1, 5, 7, 8, 9, 10]\n"
          ]
        }
      ]
    },
    {
      "cell_type": "code",
      "source": [
        "# Merge Sort (Birleştirme Sıralaması) algoritması\n",
        "\n",
        "# Ana sıralama fonksiyonu\n",
        "def merge_sort(liste):\n",
        "    # Listenin boyutu 1 veya daha azsa, zaten sıralıdır\n",
        "    if len(liste) <= 1:\n",
        "        return liste\n",
        "\n",
        "    # Liste ortadan ikiye bölünür\n",
        "    orta = len(liste) // 2\n",
        "    sol = merge_sort(liste[:orta])   # Sol yarısı özyinelemeli olarak sıralanır\n",
        "    sag = merge_sort(liste[orta:])   # Sağ yarısı özyinelemeli olarak sıralanır\n",
        "\n",
        "    # İki yarı birleştirilerek sıralı hale getirilir\n",
        "    return merge(sol, sag)\n",
        "\n",
        "# Birleştirme işlemi: iki sıralı listeyi tek sıralı listeye çevirir\n",
        "def merge(sol, sag):\n",
        "    sonuc = []   # Sonuç listesi (sıralı)\n",
        "    i = j = 0    # İki listenin de indeksleri\n",
        "\n",
        "    # Elemanlar karşılaştırılarak sırayla eklenir\n",
        "    while i < len(sol) and j < len(sag):\n",
        "        if sol[i] < sag[j]:\n",
        "            sonuc.append(sol[i])  # Daha küçük olanı ekle\n",
        "            i += 1\n",
        "        else:\n",
        "            sonuc.append(sag[j])\n",
        "            j += 1\n",
        "\n",
        "    # Geriye kalan elemanlar varsa doğrudan sona eklenir\n",
        "    sonuc.extend(sol[i:])  # Sol liste kalanı\n",
        "    sonuc.extend(sag[j:])  # Sağ liste kalanı\n",
        "\n",
        "    return sonuc  # Tamamen sıralanmış liste döndürülür\n",
        "\n",
        "# Fonksiyon, örnek liste ile çalıştırılır ve sonucu ekrana yazdırılır\n",
        "print(merge_sort([38, 27, 43, 3, 9, 82, 10]))"
      ],
      "metadata": {
        "colab": {
          "base_uri": "https://localhost:8080/"
        },
        "id": "sjXmPcq_smDR",
        "outputId": "0b91c619-9fb4-4487-acb6-4c21d5893694"
      },
      "execution_count": 11,
      "outputs": [
        {
          "output_type": "stream",
          "name": "stdout",
          "text": [
            "[3, 9, 10, 27, 38, 43, 82]\n"
          ]
        }
      ]
    }
  ]
}