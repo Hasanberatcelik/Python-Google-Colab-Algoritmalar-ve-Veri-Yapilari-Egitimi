{
  "nbformat": 4,
  "nbformat_minor": 0,
  "metadata": {
    "colab": {
      "provenance": []
    },
    "kernelspec": {
      "name": "python3",
      "display_name": "Python 3"
    },
    "language_info": {
      "name": "python"
    }
  },
  "cells": [
    {
      "cell_type": "markdown",
      "source": [
        "# Python + Google Colab: Algoritmalar ve Veri Yapıları Eğitimi (Sıfırdan İleriye)\n",
        "\n",
        "# Bölüm 25: Gelişmiş Veri Yapıları ve Optimizasyon Teknikleri\n",
        "\n",
        "\n",
        "Github Kaynagı:       \n",
        "https://github.com/acetinkaya/Python-Google-Colab-Algoritmalar-ve-Veri-Yapilari-Egitimi --> D25\n",
        "\n",
        "Öğr. Gör. Ali ÇETİNKAYA - 2025"
      ],
      "metadata": {
        "id": "0ay-Cjl8h8zX"
      }
    },
    {
      "cell_type": "code",
      "execution_count": null,
      "metadata": {
        "colab": {
          "base_uri": "https://localhost:8080/"
        },
        "id": "ysRIoo1kh3te",
        "outputId": "7359b09a-5404-42bb-cfae-9cb0419eeab0"
      },
      "outputs": [
        {
          "output_type": "stream",
          "name": "stdout",
          "text": [
            "Merhaba, Python Veri Yapıları ve Algoritmalar / Bölüm 25\n"
          ]
        }
      ],
      "source": [
        "print(\"Merhaba, Python Veri Yapıları ve Algoritmalar / Bölüm 25\")"
      ]
    },
    {
      "cell_type": "code",
      "source": [
        "import sys  # import python programlama dilinde yazılıma kütüphane eklemeye yarayan bir kod blogudur.\n",
        "print(sys.version)"
      ],
      "metadata": {
        "colab": {
          "base_uri": "https://localhost:8080/"
        },
        "id": "XosNEqDi67Uz",
        "outputId": "0c5fc303-63fe-4314-8acc-2b48cbbb78f3"
      },
      "execution_count": null,
      "outputs": [
        {
          "output_type": "stream",
          "name": "stdout",
          "text": [
            "3.11.12 (main, Apr  9 2025, 08:55:54) [GCC 11.4.0]\n"
          ]
        }
      ]
    },
    {
      "cell_type": "code",
      "source": [
        "from google.colab import drive # google colab - drive bağlantısı\n",
        "\n",
        "drive.mount('/content/drive')"
      ],
      "metadata": {
        "colab": {
          "base_uri": "https://localhost:8080/"
        },
        "id": "3RK_pb147Ahg",
        "outputId": "b5556b51-6578-403e-f520-e0d0695bb524"
      },
      "execution_count": null,
      "outputs": [
        {
          "output_type": "stream",
          "name": "stdout",
          "text": [
            "Mounted at /content/drive\n"
          ]
        }
      ]
    },
    {
      "cell_type": "code",
      "source": [
        "import os\n",
        "\n",
        "os.chdir('/content/drive/My Drive/VERIYAPILARI_PYTHON')\n",
        "\n",
        "!pwd # bize kodun çıktısını dosya yolu olarak veren kod blogudur."
      ],
      "metadata": {
        "colab": {
          "base_uri": "https://localhost:8080/"
        },
        "id": "PVUKOmiV7SNV",
        "outputId": "64f19655-0dc3-4ae2-f71d-de1fc87285e0"
      },
      "execution_count": null,
      "outputs": [
        {
          "output_type": "stream",
          "name": "stdout",
          "text": [
            "/content/drive/My Drive/VERIYAPILARI_PYTHON\n"
          ]
        }
      ]
    },
    {
      "cell_type": "markdown",
      "source": [
        "# Bölüm 25: Gelişmiş Veri Yapıları ve Optimizasyon Teknikleri\n",
        "\n",
        "# 25.1. Gelişmiş Veri Yapıları Nedir?\n",
        "\n",
        "Veri yapıları, verileri daha verimli saklamak ve işlem yapmak için kullandığımız yapılardır. Temel yapılar (liste, küme, sözlük, yığın, kuyruk) dışında, karmaşık verileri modellemek ve algoritmalarda performansı artırmak için gelişmiş yapılar kullanılır.\n",
        "\n",
        "# Gelişmiş Veri Yapılarına Örnekler:\n",
        "| Veri Yapısı        | Açıklama | Kullanım Alanı |\n",
        "|--------------------|----------|----------------|\n",
        "| **Heap (Yığın)**    | Her zaman en küçük veya en büyük elemanı O(1) zamanda sunar  - bulur | Öncelik sıralı işler, zamanlayıcı |\n",
        "| **Trie (Prefix Tree)** | Metinlerde hızlı arama, otomatik tamamlama | Sözlük sistemleri, IDE önerileri |\n",
        "| **Segment Tree / Fenwick Tree** | Aralıklı toplam/sorgu işlemleri | Online işlem sistemleri, veri akışı analizi |\n",
        "| **Graph Yapıları (Adj. List/Matrix)** | Düğüm ve bağlantı temsilinde | Sosyal ağ, rota planlama, AI |\n",
        "\n",
        "# 25.2. Optimizasyon Teknikleri Nedir?\n",
        "Optimizasyon teknikleri, bir problemi en iyi, en hızlı veya en düşük maliyetli şekilde çözmeyi amaçlayan yaklaşımlardır.\n",
        "\n",
        "Yaygın Teknikler:\n",
        "* Greedy (Açgözlü Algoritmalar)\n",
        "* Dynamic Programming (Dinamik Programlama)\n",
        "* Backtracking\n",
        "* Branch and Bound\n",
        "* Linear Programming (Doğrusal Programlama)\n",
        "\n",
        "# 25.3 Optimizasyon Örnekleri\n",
        "\n",
        "| Senaryo                           | Uygulanabilecek Teknikler              |\n",
        "|-----------------------------------|----------------------------------------|\n",
        "| En kısa yol hesabı               | Dijkstra, A* algoritması, önbellekleme |\n",
        "| Büyük veri sıralama              | Merge Sort, Heap Sort, dışsal sıralama |\n",
        "| Otomatik tamamlama sistemi       | Trie + DFS, öncelik kuyruğu           |\n",
        "| Dinamik tablo güncelleme         | Segment Tree, Lazy Propagation        |\n",
        "| Yüz tanıma / görüntü işleme      | Vektörleştirme, numpy optimizasyonu   |\n",
        "\n",
        "\n",
        "# 25.4. Programlama Dillerindeki Veri Yapılarının Kullanım Alanları?\n",
        "\n",
        "| Alan             | Kullanım Örneği                |\n",
        "| ---------------- | ------------------------------ |\n",
        "| Yapay Zekâ       | Durum optimizasyonu, yol bulma |\n",
        "| Robotik          | Rotanın verimli çizilmesi      |\n",
        "| Finans           | Portföy optimizasyonu          |\n",
        "| Lojistik         | Minimum maliyetli taşıma       |\n",
        "| Doğal Dil İşleme | Metin arama, öneri sistemleri  |\n"
      ],
      "metadata": {
        "id": "LSE34Fd_8vds"
      }
    },
    {
      "cell_type": "markdown",
      "source": [
        "# 1. Örnek: Heap (min-heap) ile En Küçük Elemanı Sürekli Bulma"
      ],
      "metadata": {
        "id": "8iEisW1063bh"
      }
    },
    {
      "cell_type": "code",
      "source": [
        "import heapq\n",
        "\n",
        "veriler = [12, 3, 5, 8, 1]\n",
        "heapq.heapify(veriler)\n",
        "\n",
        "print(\"Min-Heap:\", veriler)\n",
        "print(\"En küçük eleman:\", heapq.heappop(veriler))"
      ],
      "metadata": {
        "colab": {
          "base_uri": "https://localhost:8080/"
        },
        "id": "CRxgtWQ66oZQ",
        "outputId": "479c9353-74a7-4626-f4fe-93c35f197add"
      },
      "execution_count": null,
      "outputs": [
        {
          "output_type": "stream",
          "name": "stdout",
          "text": [
            "Min-Heap: [1, 3, 5, 8, 12]\n",
            "En küçük eleman: 1\n"
          ]
        }
      ]
    },
    {
      "cell_type": "markdown",
      "source": [
        "\n",
        "# 2. Örnek: Python’da Graph ile En Kısa Yol Arama (Dijkstra)\n"
      ],
      "metadata": {
        "id": "xvBd7JFF7HZp"
      }
    },
    {
      "cell_type": "code",
      "source": [
        "import networkx as nx\n",
        "\n",
        "G = nx.DiGraph()\n",
        "G.add_weighted_edges_from([\n",
        "    ('A', 'B', 1), ('B', 'C', 2), ('A', 'C', 4)])\n",
        "\n",
        "yol = nx.dijkstra_path(G, source='A', target='C')\n",
        "print(\"En kısa yol:\", yol)"
      ],
      "metadata": {
        "id": "wZ7ZIOpb7Pb7",
        "colab": {
          "base_uri": "https://localhost:8080/"
        },
        "outputId": "e932445f-31f4-495a-b554-8f2cb8b94c2e"
      },
      "execution_count": null,
      "outputs": [
        {
          "output_type": "stream",
          "name": "stdout",
          "text": [
            "En kısa yol: ['A', 'B', 'C']\n"
          ]
        }
      ]
    },
    {
      "cell_type": "markdown",
      "source": [
        "# 3. Örnek: Dijkstra Algoritmasının Matplotlib ile görselleştirilmesi\n"
      ],
      "metadata": {
        "id": "WrlmHiPsMQxq"
      }
    },
    {
      "cell_type": "code",
      "source": [
        "import networkx as nx\n",
        "import matplotlib.pyplot as plt\n",
        "\n",
        "# Yönlü ve ağırlıklı bir grafik oluştur\n",
        "G = nx.DiGraph()\n",
        "G.add_weighted_edges_from([\n",
        "    ('A', 'B', 1),\n",
        "    ('B', 'C', 2),\n",
        "    ('A', 'C', 4)\n",
        "])\n",
        "\n",
        "# Dijkstra ile en kısa yol bulunur\n",
        "kaynaktan = 'A'\n",
        "hedefe = 'C'\n",
        "kisa_yol = nx.dijkstra_path(G, source=kaynaktan, target=hedefe)\n",
        "print(\"En kısa yol:\", kisa_yol)\n",
        "\n",
        "# Kenarların ağırlıklarını içeren sözlük\n",
        "edge_labels = nx.get_edge_attributes(G, 'weight')\n",
        "\n",
        "# Grafik pozisyonlarını belirle\n",
        "pos = nx.spring_layout(G, seed=42)\n",
        "\n",
        "# Tüm grafiği çiz\n",
        "nx.draw(G, pos, with_labels=True, node_color='lightblue', node_size=1500, font_size=14, arrows=True)\n",
        "\n",
        "# Kenar etiketlerini (ağırlıkları) ekle\n",
        "nx.draw_networkx_edge_labels(G, pos, edge_labels=edge_labels, font_color='blue')\n",
        "\n",
        "# En kısa yolu vurgulu çiz (kırmızı kalın oklarla)\n",
        "kisa_yol_kenarlari = list(zip(kisa_yol, kisa_yol[1:]))\n",
        "nx.draw_networkx_edges(G, pos, edgelist=kisa_yol_kenarlari, edge_color='red', width=3)\n",
        "\n",
        "plt.title(\"Dijkstra: \" + kaynaktan + \" → \" + hedefe + \" En Kısa Yol Maliyet Hesabıdır..\")\n",
        "plt.show()"
      ],
      "metadata": {
        "colab": {
          "base_uri": "https://localhost:8080/",
          "height": 556
        },
        "id": "VxEbkftiMNxx",
        "outputId": "4d0798c1-ea47-42be-e103-4e32df9b4c32"
      },
      "execution_count": 16,
      "outputs": [
        {
          "output_type": "stream",
          "name": "stdout",
          "text": [
            "En kısa yol: ['A', 'B', 'C']\n"
          ]
        },
        {
          "output_type": "display_data",
          "data": {
            "text/plain": [
              "<Figure size 640x480 with 1 Axes>"
            ],
            "image/png": "[encoded data removed]"
          },
          "metadata": {}
        }
      ]
    },
    {
      "cell_type": "markdown",
      "source": [
        "# 4. Örnek: Greedy Para Bozma Problemi Örneği"
      ],
      "metadata": {
        "id": "Uj-K5Dxz7XFd"
      }
    },
    {
      "cell_type": "code",
      "source": [
        "paralar = [100, 50, 20, 10, 5, 1]  # Kullanılabilecek para birimleri (büyükten küçüğe sıralı)\n",
        "miktar = 127                       # Ödenmesi gereken toplam miktar\n",
        "kullanilan = []                    # Kullanılan para birimlerini tutan liste\n",
        "\n",
        "for para in paralar:\n",
        "    while miktar >= para:\n",
        "        miktar -= para\n",
        "        kullanilan.append(para)\n",
        "\n",
        "print(\"Kullanılan paralar:\", kullanilan)"
      ],
      "metadata": {
        "colab": {
          "base_uri": "https://localhost:8080/"
        },
        "id": "s7mGTKble1Ga",
        "outputId": "2410a175-d579-4840-c332-5dca599021b4"
      },
      "execution_count": null,
      "outputs": [
        {
          "output_type": "stream",
          "name": "stdout",
          "text": [
            "Kullanılan paralar: [100, 20, 5, 1, 1]\n"
          ]
        }
      ]
    }
  ]
}