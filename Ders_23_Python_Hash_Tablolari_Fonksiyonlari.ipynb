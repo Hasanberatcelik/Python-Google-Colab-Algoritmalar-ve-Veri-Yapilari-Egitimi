{
  "nbformat": 4,
  "nbformat_minor": 0,
  "metadata": {
    "colab": {
      "provenance": []
    },
    "kernelspec": {
      "name": "python3",
      "display_name": "Python 3"
    },
    "language_info": {
      "name": "python"
    }
  },
  "cells": [
    {
      "cell_type": "markdown",
      "source": [
        "# Python + Google Colab: Algoritmalar ve Veri Yapıları Eğitimi (Sıfırdan İleriye)\n",
        "\n",
        "# Bölüm 23: Python Programlama Dili Üzerinde Hash Tabloları ve Hash Fonksiyonları\n",
        "\n",
        "Github Kaynagı:       \n",
        "https://github.com/acetinkaya/Python-Google-Colab-Algoritmalar-ve-Veri-Yapilari-Egitimi --> D23\n",
        "\n",
        "Öğr. Gör. Ali ÇETİNKAYA - 2025"
      ],
      "metadata": {
        "id": "0ay-Cjl8h8zX"
      }
    },
    {
      "cell_type": "code",
      "execution_count": null,
      "metadata": {
        "colab": {
          "base_uri": "https://localhost:8080/"
        },
        "id": "ysRIoo1kh3te",
        "outputId": "6129f48c-e1cb-4284-bfe3-2d736b2102cc"
      },
      "outputs": [
        {
          "output_type": "stream",
          "name": "stdout",
          "text": [
            "Merhaba, Python Veri Yapıları ve Algoritmalar / Bölüm 23\n"
          ]
        }
      ],
      "source": [
        "print(\"Merhaba, Python Veri Yapıları ve Algoritmalar / Bölüm 23\")"
      ]
    },
    {
      "cell_type": "code",
      "source": [
        "import sys  # import python programlama dilinde yazılıma kütüphane eklemeye yarayan bir kod blogudur.\n",
        "print(sys.version)"
      ],
      "metadata": {
        "colab": {
          "base_uri": "https://localhost:8080/"
        },
        "id": "XosNEqDi67Uz",
        "outputId": "063be157-d2de-452e-90fb-836f8a2654c1"
      },
      "execution_count": null,
      "outputs": [
        {
          "output_type": "stream",
          "name": "stdout",
          "text": [
            "3.11.12 (main, Apr  9 2025, 08:55:54) [GCC 11.4.0]\n"
          ]
        }
      ]
    },
    {
      "cell_type": "code",
      "source": [
        "from google.colab import drive # google colab - drive bağlantısı\n",
        "\n",
        "drive.mount('/content/drive')"
      ],
      "metadata": {
        "colab": {
          "base_uri": "https://localhost:8080/"
        },
        "id": "3RK_pb147Ahg",
        "outputId": "094c9206-dd3d-41de-c342-6eec8361062c"
      },
      "execution_count": null,
      "outputs": [
        {
          "output_type": "stream",
          "name": "stdout",
          "text": [
            "Mounted at /content/drive\n"
          ]
        }
      ]
    },
    {
      "cell_type": "code",
      "source": [
        "import os\n",
        "\n",
        "os.chdir('/content/drive/My Drive/VERIYAPILARI_PYTHON')\n",
        "\n",
        "!pwd # bize kodun çıktısını dosya yolu olarak veren kod blogudur."
      ],
      "metadata": {
        "colab": {
          "base_uri": "https://localhost:8080/"
        },
        "id": "PVUKOmiV7SNV",
        "outputId": "0f0edef2-9343-4e3c-ce64-6a61ff4f11a1"
      },
      "execution_count": null,
      "outputs": [
        {
          "output_type": "stream",
          "name": "stdout",
          "text": [
            "/content/drive/My Drive/VERIYAPILARI_PYTHON\n"
          ]
        }
      ]
    },
    {
      "cell_type": "markdown",
      "source": [
        "#  Bölüm 23: Python Programlama Dili Üzerinde Hash Tabloları ve Hash Fonksiyonları\n",
        "\n",
        "# 23.1 Hash Nedir?,\n",
        "\n",
        "Hash, bir veriyi (örneğin bir metin veya sayıyı), sabit uzunlukta başka bir değere (genellikle bir sayı) dönüştüren bir işlemdir. Bu dönüşüm, veriyi hızlı aramak, yerleştirmek veya yönetmek için kullanılır.\n",
        "\n",
        "# 23.2 Hash Tablosu (Hash Table) Nedir?\n",
        "Hash tablosu, bir anahtar (key) ile ilişkili değerlerin (value) saklandığı bir veri yapısıdır. Python’da bu yapı dict (sözlük) olarak doğrudan kullanılır.\n",
        "\n",
        "Özellikleri:\n",
        "Anahtardan değer erişimi: O(1) (ortalama)\n",
        "\n",
        "Key → Value eşlemesi\n",
        "\n",
        "Anahtarlar benzersiz olmalı\n",
        "\n",
        "# 23.3 Hash Fonksiyonlarının Kullanım Alanları\n",
        "\n",
        "| Alan                           | Açıklama |\n",
        "|--------------------------------|----------|\n",
        "| Şifreleme & Parola Saklama   | Hashlenmiş şifreler düz metin yerine tutulur (ör. SHA256, bcrypt) |\n",
        "| Sözlükler & Setler          | Python’da `dict` ve `set` yapıları hash tabanı kullanır |\n",
        "| Veri Tabanı İndeksleme      | Hash indeksleriyle hızlı veri erişimi sağlanır |\n",
        "| Önbellekleme (Caching)      | Verinin daha önce işlenip işlenmediği hash ile kontrol edilir |\n",
        "| Dosya Bütünlüğü Kontrolü     | İki dosyanın aynı olup olmadığı hash karşılaştırmasıyla belirlenir |\n",
        "\n",
        "# 23.4 Hashing vs Encryption\n",
        "\n",
        "| Özellik       | Hashing                          | Encryption                      |\n",
        "|---------------|----------------------------------|---------------------------------|\n",
        "| Geri dönüş    | **Tek yönlüdür** (geri açılamaz) | Çift yönlüdür (şifre çözülebilir) |\n",
        "| Amaç          | Doğrulama, bütünlük              | Gizlilik, yetkilendirme         |\n",
        "| Kullanım Alanı| Parola saklama, dijital imza     | Gizli veri iletimi              |"
      ],
      "metadata": {
        "id": "LSE34Fd_8vds"
      }
    },
    {
      "cell_type": "code",
      "source": [
        "# Basit bir hash tablosu (sözlük)\n",
        "ogrenciler = {\n",
        "    \"1001\": \"Ali\",\n",
        "    \"1002\": \"Ayşe\",\n",
        "    \"1003\": \"Mehmet\"\n",
        "}\n",
        "\n",
        "# Anahtar ile hızlı erişim\n",
        "print(ogrenciler[\"1002\"])  # Çıktı: Ayşe"
      ],
      "metadata": {
        "colab": {
          "base_uri": "https://localhost:8080/"
        },
        "id": "r47RAQgm2ih7",
        "outputId": "4fc19bc3-cee4-4c3c-a715-553c57f14c5e"
      },
      "execution_count": 7,
      "outputs": [
        {
          "output_type": "stream",
          "name": "stdout",
          "text": [
            "Ayşe\n"
          ]
        }
      ]
    },
    {
      "cell_type": "code",
      "source": [
        "# Python'da hash() Fonksiyonu Kullanımı\n",
        "# hash() fonksiyonu, immutable (değiştirilemez) bir string için bir hash değeri üretir\n",
        "print(hash(\"Ali\"))       # 7282652384841270071 çıktısıdır.\n",
        "print(hash(42))          # hash() fonksiyonu bir integer (tam sayı) için de çalışır\n",
        "\n",
        "# hash() fonksiyonu, mutable (değiştirilebilir) bir veri tipi olan list için çalışmaz\n",
        "try:\n",
        "    print(hash([1, 2, 3]))    # Liste hashlenemez, çünkü elemanları değiştirilebilir\n",
        "except TypeError as e:\n",
        "    print(\"Hata:\", e)         # Hata çıktısı: unhashable type: 'list'"
      ],
      "metadata": {
        "colab": {
          "base_uri": "https://localhost:8080/"
        },
        "id": "nxi7Ns2O2lL1",
        "outputId": "0558f8b0-d233-42ca-c813-3bcfff33287b"
      },
      "execution_count": 8,
      "outputs": [
        {
          "output_type": "stream",
          "name": "stdout",
          "text": [
            "7379343315356946677\n",
            "42\n",
            "Hata: unhashable type: 'list'\n"
          ]
        }
      ]
    }
  ]
}