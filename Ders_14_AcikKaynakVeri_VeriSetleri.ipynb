{
  "nbformat": 4,
  "nbformat_minor": 0,
  "metadata": {
    "colab": {
      "provenance": []
    },
    "kernelspec": {
      "name": "python3",
      "display_name": "Python 3"
    },
    "language_info": {
      "name": "python"
    }
  },
  "cells": [
    {
      "cell_type": "markdown",
      "source": [
        "Python + Google Colab: Algoritmalar ve Veri Yapıları Eğitimi (Sıfırdan İleriye)   \n",
        "\n",
        "Ders 14. Açık Kaynak Veri ve Veri Setleri (CSV, Excel, SQL, JSON Dosya Formatları)\n",
        "\n",
        "Github Kaynagı:       \n",
        "https://github.com/acetinkaya/Python-Google-Colab-Algoritmalar-ve-Veri-Yapilari-Egitimi --> D14\n",
        "\n",
        "Öğr. Gör. Ali ÇETİNKAYA - 2025\n"
      ],
      "metadata": {
        "id": "0ay-Cjl8h8zX"
      }
    },
    {
      "cell_type": "code",
      "execution_count": null,
      "metadata": {
        "colab": {
          "base_uri": "https://localhost:8080/"
        },
        "id": "ysRIoo1kh3te",
        "outputId": "4e95d4f7-6acb-4ee9-b009-8ba8b2340884"
      },
      "outputs": [
        {
          "output_type": "stream",
          "name": "stdout",
          "text": [
            "Merhaba, Python Veri Yapıları ve Algoritmalar / Ders 12\n"
          ]
        }
      ],
      "source": [
        "print(\"Merhaba, Python Veri Yapıları ve Algoritmalar / Ders 14\")"
      ]
    },
    {
      "cell_type": "code",
      "source": [
        "import sys  # import python programlama dilinde yazılıma kütüphane eklemeye yarayan bir kod blogudur.\n",
        "print(sys.version)"
      ],
      "metadata": {
        "colab": {
          "base_uri": "https://localhost:8080/"
        },
        "id": "XosNEqDi67Uz",
        "outputId": "bc589595-f0f7-465e-c3b9-3607e5aa9509"
      },
      "execution_count": null,
      "outputs": [
        {
          "output_type": "stream",
          "name": "stdout",
          "text": [
            "3.10.12 (main, Nov  6 2024, 20:22:13) [GCC 11.4.0]\n"
          ]
        }
      ]
    },
    {
      "cell_type": "code",
      "source": [
        "from google.colab import drive # google colab - drive bağlantısı\n",
        "\n",
        "drive.mount('/content/drive')"
      ],
      "metadata": {
        "colab": {
          "base_uri": "https://localhost:8080/"
        },
        "id": "3RK_pb147Ahg",
        "outputId": "84b5ea88-4bd5-4050-8314-bd96f3fcef20"
      },
      "execution_count": null,
      "outputs": [
        {
          "output_type": "stream",
          "name": "stdout",
          "text": [
            "Mounted at /content/drive\n"
          ]
        }
      ]
    },
    {
      "cell_type": "code",
      "source": [
        "import os\n",
        "\n",
        "os.chdir('/content/drive/My Drive/VERIYAPILARI_PYTHON')\n",
        "\n",
        "!pwd # bize kodun çıktısını dosya yolu olarak veren kod blogudur."
      ],
      "metadata": {
        "colab": {
          "base_uri": "https://localhost:8080/"
        },
        "id": "PVUKOmiV7SNV",
        "outputId": "b5de5276-1c57-401f-f2ca-aa755e03536a"
      },
      "execution_count": null,
      "outputs": [
        {
          "output_type": "stream",
          "name": "stdout",
          "text": [
            "/content/drive/My Drive/VERIYAPILARI_PYTHON\n"
          ]
        }
      ]
    },
    {
      "cell_type": "markdown",
      "source": [
        "# Ders 14. Açık Kaynak Veri ve Veri Setleri (CSV, Excel, SQL, JSON Dosya Formatları)\n",
        "\n",
        "\n",
        "\n"
      ],
      "metadata": {
        "id": "N8O0VC5oQ898"
      }
    },
    {
      "cell_type": "markdown",
      "source": [
        "Açık Kaynak Verinin Tanımı ve Önemi\n",
        "\n",
        "Açık veri, herkesin erişebileceği, yeniden kullanabileceği ve paylaşabileceği şekilde sunulan verileri ifade eder. Bu tür veriler, toplumun her alanında önemli fırsatlar sunar ve aşağıdaki nedenlerden ötürü öneme sahiptir.\n",
        "\n",
        "1. Çevresel ve Sosyal Fayda\n",
        "2. Veri Temelli Karar Alma\n",
        "3. İş Birliklerini Destekler\n",
        "4. Ekonomik Değer Yaratır\n",
        "5. Bilimsel ve Akademik Çalışmalara Katkı\n",
        "6. Yenilik ve İnovasyon\n",
        "\n",
        "----\n",
        "\n",
        "Açık Kaynak Veri Seti Sayfaları:\n",
        "\n",
        "1-> Ulusal Akıllı Şehir Açık Veri Platformu -> https://ulasav.csb.gov.tr/\n",
        "\n",
        "2-> TÜBİTAK Açık Arşivi -> https://acikveri.ulakbim.gov.tr/\n",
        "\n",
        "3-> İBB Açık Veri Portalı -> https://data.ibb.gov.tr/\n",
        "\n",
        "4-> Küçükçekmece Belediyesi Açık Veri Platformu -> https://acikveri.kucukcekmece.bel.tr/\n",
        "\n",
        "\n",
        "----\n",
        "\n",
        "# İBB Atıktan Geri Kazanım Miktarları (https://data.ibb.gov.tr/dataset/atiktan-geri-kazanim-miktarlari)\n",
        "\n",
        "İstanbul Büyükşehir Belediyesi'nin (İBB) Açık Veri Portalı'nda yer alan \"Atıktan Geri Kazanım Miktarları\" veri seti, İstanbul'da atıklardan elde edilen geri kazanım miktarlarını yıllık bazda sunmaktadır.\n",
        "\n",
        "Veri Setinin İçeriği:\n",
        "\n",
        "Bu veri seti, 2004 yılından itibaren her yıl için aşağıdaki bilgileri içermektedir:\n",
        "\n",
        "1. Üretilen Kompost Miktarı (ton): Organik atıklardan elde edilen kompost miktarı.\n",
        "\n",
        "2. İBB Tesislerinde Geri Dönüştürülen Malzeme Miktarı (ton): İstanbul Büyükşehir Belediyesi tesislerinde geri dönüştürülen malzemelerin toplam miktarı.\n",
        "\n",
        "3. Atıktan Türetilmiş Yakıt Miktarı (ton): Atıklardan üretilen alternatif yakıt miktarı.\n",
        "\n",
        "4. Çöp Gazından Üretilen Elektrik Enerjisi Miktarı (MWh): Depolama sahalarından elde edilen çöp gazından üretilen elektrik enerjisi miktarı.\n",
        "\n",
        "---\n",
        "\n",
        "# İstanbul'daki bina stokunun yapısal özellikleri (https://data.ibb.gov.tr/dataset/mahalle-bazli-bina-analiz-verisi)\n",
        "\n",
        "İstanbul Büyükşehir Belediyesi'nin (İBB) Açık Veri Portalı'nda sunulan \"Mahalle Bazlı Bina Sayıları\" veri seti, İstanbul'daki mahallelerde bulunan binaların yapım yılı ve kat sayısı bilgilerini içermektedir.\n",
        "\n",
        "Veri Setinin İçeriği:\n",
        "\n",
        "Bu veri seti, 2016-2017 yıllarında mevcut MAKS (Mekansal Adres Kayıt Sistemi) verileri kullanılarak oluşturulmuştur. 20 kattan az kat sayısına sahip binalar, uydu ve sokak görüntüleri kullanılarak aşağıdaki kategorilere göre sınıflandırılmıştır:\n",
        "\n",
        "1. Yapım Yılına Göre\n",
        "\n",
        "* 1980 öncesi\n",
        "\n",
        "* 1980-2000 arası\n",
        "\n",
        "* 2000 sonrası\n",
        "\n",
        "2. Kat Sayısına Göre:\n",
        "\n",
        "* 1-4 kat\n",
        "\n",
        "* 5-9 kat\n",
        "\n",
        "* 9-19 kat\n",
        "\n",
        "# Ders 14. Python Dosyalama - Veri Seti Uygulaması\n",
        "\n",
        "Excel Veri Seti Dosyası: https://data.ibb.gov.tr/dataset/atiktan-geri-kazanim-miktarlari (Son Erişim Tarihi - 09.01.2025)\n",
        "\n",
        "CSV Veri Seti Dosyası: https://data.ibb.gov.tr/dataset/mahalle-bazli-bina-analiz-verisi (Son Erişim Tarihi - 09.01.2025)"
      ],
      "metadata": {
        "id": "F1v7xSAR3JeM"
      }
    }
  ]
}