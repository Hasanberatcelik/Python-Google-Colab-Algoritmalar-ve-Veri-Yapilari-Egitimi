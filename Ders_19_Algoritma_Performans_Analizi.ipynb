{
  "nbformat": 4,
  "nbformat_minor": 0,
  "metadata": {
    "colab": {
      "provenance": []
    },
    "kernelspec": {
      "name": "python3",
      "display_name": "Python 3"
    },
    "language_info": {
      "name": "python"
    }
  },
  "cells": [
    {
      "cell_type": "markdown",
      "source": [
        "# Python + Google Colab: Algoritmalar ve Veri Yapıları Eğitimi (Sıfırdan İleriye)\n",
        "   \n",
        "# Bölüm 19: Algoritma ve Performans Analizi - Büyük O Notasyonu\n",
        "\n",
        "Github Kaynagı:       \n",
        "https://github.com/acetinkaya/Python-Google-Colab-Algoritmalar-ve-Veri-Yapilari-Egitimi --> D19\n",
        "\n",
        "Öğr. Gör. Ali ÇETİNKAYA - 2025"
      ],
      "metadata": {
        "id": "0ay-Cjl8h8zX"
      }
    },
    {
      "cell_type": "code",
      "execution_count": null,
      "metadata": {
        "colab": {
          "base_uri": "https://localhost:8080/"
        },
        "id": "ysRIoo1kh3te",
        "outputId": "5af1ab3e-73a8-4428-ca9e-d0317ce93c57"
      },
      "outputs": [
        {
          "output_type": "stream",
          "name": "stdout",
          "text": [
            "Merhaba, Python Veri Yapıları ve Algoritmalar / Ders 19\n"
          ]
        }
      ],
      "source": [
        "print(\"Merhaba, Python Veri Yapıları ve Algoritmalar / Ders 19\")"
      ]
    },
    {
      "cell_type": "code",
      "source": [
        "import sys  # import python programlama dilinde yazılıma kütüphane eklemeye yarayan bir kod blogudur.\n",
        "print(sys.version)"
      ],
      "metadata": {
        "colab": {
          "base_uri": "https://localhost:8080/"
        },
        "id": "XosNEqDi67Uz",
        "outputId": "fe58fc3b-5c16-47a3-9e6a-dfd197a84fca"
      },
      "execution_count": null,
      "outputs": [
        {
          "output_type": "stream",
          "name": "stdout",
          "text": [
            "3.11.12 (main, Apr  9 2025, 08:55:54) [GCC 11.4.0]\n"
          ]
        }
      ]
    },
    {
      "cell_type": "code",
      "source": [
        "from google.colab import drive # google colab - drive bağlantısı\n",
        "\n",
        "drive.mount('/content/drive')"
      ],
      "metadata": {
        "colab": {
          "base_uri": "https://localhost:8080/"
        },
        "id": "3RK_pb147Ahg",
        "outputId": "c3b5d998-6504-4f86-bf46-14658acc398f"
      },
      "execution_count": null,
      "outputs": [
        {
          "output_type": "stream",
          "name": "stdout",
          "text": [
            "Mounted at /content/drive\n"
          ]
        }
      ]
    },
    {
      "cell_type": "code",
      "source": [
        "import os\n",
        "\n",
        "os.chdir('/content/drive/My Drive/VERIYAPILARI_PYTHON')\n",
        "\n",
        "!pwd # bize kodun çıktısını dosya yolu olarak veren kod blogudur."
      ],
      "metadata": {
        "colab": {
          "base_uri": "https://localhost:8080/"
        },
        "id": "PVUKOmiV7SNV",
        "outputId": "1430ab41-a23d-49f2-95ff-7350266d7c3d"
      },
      "execution_count": null,
      "outputs": [
        {
          "output_type": "stream",
          "name": "stdout",
          "text": [
            "/content/drive/My Drive/VERIYAPILARI_PYTHON\n"
          ]
        }
      ]
    },
    {
      "cell_type": "markdown",
      "source": [
        "# Bölüm 19: Algoritma ve Performans Analizi - Büyük O Notasyonu ve Algoritma Analizi\n",
        "\n",
        "# 1. Algoritma Analizi Nedir?\n",
        "Bir algoritmanın zaman ve bellek (hafıza) açısından ne kadar verimli çalıştığını ölçmektir.\n",
        "\n",
        "Hedef: Algoritmanın büyüklüğü (girdi boyutu) arttıkça nasıl davrandığını anlamaktır.\n",
        "\n",
        "İyi bir analiz, hem hızlı çalışan hem de kaynakları verimli kullanan algoritmalar geliştirmemizi sağlar.\n",
        "\n",
        "---\n",
        "\n",
        "# 2. Algoritma Performansı Ölçümünde Nelere Bakılır?\n",
        "\n",
        "Zaman Karmaşıklığı: Algoritmanın çalışması için geçen süre (girdi boyutuna göre).\n",
        "\n",
        "Alan Karmaşıklığı: Algoritmanın çalışırken kullandığı bellek miktarı.\n",
        "\n",
        "En İyi Durum (Best-Case): En hızlı sonuç alınan durum.\n",
        "\n",
        "En Kötü Durum (Worst-Case): En fazla kaynak tüketilen durum.\n",
        "\n",
        "Ortalama Durum (Average-Case): Rastgele girdi durumlarında ortalama performans.\n",
        "\n",
        "---\n",
        "\n",
        "# 3. Büyük O (Big O) Notasyonu Nedir?\n",
        "\n",
        "Büyük O Notasyonu, bir algoritmanın en kötü durum (worst-case) performansını girdi boyutuna göre ifade eder.\n",
        "\n",
        "Temel amacı: Detaylara (sabitler ve düşük dereceli terimler) takılmadan büyüme hızını gösterir.\n",
        "\n",
        "Big O Notasyonu İle:\n",
        "Sadece algoritmanın nasıl ölçeklendiği ile ilgileniriz.\n",
        "\n",
        "Mikro seviyedeki işlem sayıları değil, girdi boyutundaki değişimlere algoritmanın nasıl tepki verdiği önemlidir.\n",
        "\n",
        "| Big O | Açıklama | Örnek |\n",
        "|------------|-------------|------------|\n",
        "| O(1) | Sabit Zamanlı | Bir listenin son elemanına doğrudan erişmek |   \n",
        "| O(log n) | Logaritmik Zamanlı | Binary Search (İkili Arama) |   \n",
        "| O(n) | Doğrusal Zamanlı | Bir diziyi baştan sona gezmek |   \n",
        "| O(n log n) | Logaritmik Artışlı | Merge Sort, Quick Sort (ortalama durum) |   \n",
        "| O(n²) | Kare Zamanlı | Basit Sıralama Algoritmaları (Bubble Sort) |   \n",
        "| O(2^n) | Üssel Zamanlı | Bazı kombinatoryal algoritmalar |   \n"
      ],
      "metadata": {
        "id": "LjwmGgla54Nh"
      }
    },
    {
      "cell_type": "code",
      "source": [
        "# Örnek 1: O(1) – Sabit Zamanlı İşlem\n",
        "# Veriler ne kadar uzun olursa olsun, listenin ilgili elemanına erişmek sabit zamanda (O(1)) gerçekleşir.\n",
        "\n",
        "def ilk_elemani_getir(liste):\n",
        "    return liste[0]                      # Listenin ilk elemanını döndür (indeks 0)\n",
        "\n",
        "# Test\n",
        "sayilar = [10, 20, 30, 40, 50]           # Örnek bir sayı listesi\n",
        "print(ilk_elemani_getir(sayilar))        # Listenin ilk elemanını ekrana yazdırır"
      ],
      "metadata": {
        "colab": {
          "base_uri": "https://localhost:8080/"
        },
        "id": "cU3Foqpg52N-",
        "outputId": "97de5a82-cb64-4b10-9711-0be581556d64"
      },
      "execution_count": 26,
      "outputs": [
        {
          "output_type": "stream",
          "name": "stdout",
          "text": [
            "10\n"
          ]
        }
      ]
    },
    {
      "cell_type": "code",
      "source": [
        "# Örnek 2: O(n) – Doğrusal Zamanlı İşlem\n",
        "# Listenin tüm elemanlarını dolaşıyoruz, eleman sayısı arttıkça işlem süresi de doğru orantılı artar → O(n)\n",
        "\n",
        "import time\n",
        "\n",
        "def tum_elemanlari_yaz(liste):\n",
        "    baslangic = time.time()                    # İşlem süresi ölçümü için başlangıç zamanı alınır\n",
        "\n",
        "    for eleman in liste:                       # Listedeki her bir eleman dolaşılır\n",
        "        print(eleman)                          # Eleman ekrana yazdırılır\n",
        "\n",
        "    bitis = time.time()                        # İşlem süresi ölçümü için bitiş zamanı alınır\n",
        "    sure = bitis - baslangic\n",
        "    print(\"Toplam işlem süresi:\" , round(sure, 6) , \" saniye\")  # Süre ekrana yazdırılır\n",
        "    # round(sure, 6) fonksiyonu ile sayının virgülden sonra 6 basamağına kadar yazılmaktadır.\n",
        "\n",
        "# Test\n",
        "sayilar = [1, 2, 3, 4]      # Örnek bir sayı listesi\n",
        "tum_elemanlari_yaz(sayilar)                    # Listedeki tüm sayıları ve işlem süresini yazdırır"
      ],
      "metadata": {
        "colab": {
          "base_uri": "https://localhost:8080/"
        },
        "id": "qp9IkGM875gE",
        "outputId": "7e680755-d832-441b-df76-ed35cda0001c"
      },
      "execution_count": 29,
      "outputs": [
        {
          "output_type": "stream",
          "name": "stdout",
          "text": [
            "1\n",
            "2\n",
            "3\n",
            "4\n",
            "Toplam işlem süresi: 0.000228  saniye\n"
          ]
        }
      ]
    },
    {
      "cell_type": "code",
      "source": [
        "# Örnek 3: O(n²) – Kare Zamanlı İşlem\n",
        "# İki döngü iç içe çalıştığı için, eleman sayısının karesi kadar işlem yapılır → O(n²)\n",
        "\n",
        "def tum_ciftleri_yaz(liste):\n",
        "    for i in liste:                        # İlk döngü: listedeki her elemanı sırayla al\n",
        "        for j in liste:                    # İkinci döngü: yine listedeki her elemanla eşleştir\n",
        "            print(i, j)                    # Eşleştirilen her çifti ekrana yazdır\n",
        "\n",
        "# Test\n",
        "sayilar = [1, 2, 3]                        # Örnek bir sayı listesi\n",
        "tum_ciftleri_yaz(sayilar)                  # Tüm sayı çiftlerini yazdırır"
      ],
      "metadata": {
        "colab": {
          "base_uri": "https://localhost:8080/"
        },
        "id": "TDrN6EkP8CcR",
        "outputId": "d5b9a1f6-b61a-4cc8-f32f-3ce6988e7e2e"
      },
      "execution_count": null,
      "outputs": [
        {
          "output_type": "stream",
          "name": "stdout",
          "text": [
            "1 1\n",
            "1 2\n",
            "1 3\n",
            "2 1\n",
            "2 2\n",
            "2 3\n",
            "3 1\n",
            "3 2\n",
            "3 3\n"
          ]
        }
      ]
    },
    {
      "cell_type": "code",
      "source": [
        "# Örnek 4: O(log n) – Logaritmik Zamanlı İşlem (Binary Search)\n",
        "# Her adımda arama alanı yarıya indiriliyor. Yani işlem süresi giriş boyutunun logaritmasına bağlıdır → O(log n)\n",
        "# Verilen sayilar listesinde Binary Search (İkili Arama) algoritmasını kullanarak, 9 sayısının listedeki indeksinin bulunmasıdır.\n",
        "\n",
        "def ikili_arama(liste, hedef):\n",
        "    alt_sinir = 0                             # Aramanın başlayacağı alt sınır (listenin başı)\n",
        "    ust_sinir = len(liste) - 1                # Aramanın biteceği üst sınır (listenin sonu)\n",
        "\n",
        "    while alt_sinir <= ust_sinir:             # Alt sınır üst sınırı geçene kadar devam et\n",
        "        orta = (alt_sinir + ust_sinir) // 2   # Listenin ortasındaki elemanın indeksi\n",
        "\n",
        "        if liste[orta] == hedef:              # Ortadaki eleman hedefe eşitse, hedef bulundu\n",
        "            return orta\n",
        "        elif liste[orta] < hedef:             # Ortadaki eleman hedeften küçükse, aramayı sağ yarıya kaydır\n",
        "            alt_sinir = orta + 1\n",
        "        else:                                 # Ortadaki eleman hedeften büyükse, aramayı sol yarıya kaydır\n",
        "            ust_sinir = orta - 1\n",
        "\n",
        "    return -1                                 # Hedef eleman listede yoksa -1 döndür\n",
        "\n",
        "# Test\n",
        "sayilar = [1, 3, 5, 7, 9, 11, 13]              # Sıralı bir sayı listesi\n",
        "print(ikili_arama(sayilar, 9))                # 9 sayısının listede hangi indekste olduğunu bulur"
      ],
      "metadata": {
        "colab": {
          "base_uri": "https://localhost:8080/"
        },
        "id": "k_v6CHgW8KUp",
        "outputId": "3fb8c4af-e7df-4768-fe51-8a30a7c596f9"
      },
      "execution_count": 25,
      "outputs": [
        {
          "output_type": "stream",
          "name": "stdout",
          "text": [
            "4\n"
          ]
        }
      ]
    }
  ]
}